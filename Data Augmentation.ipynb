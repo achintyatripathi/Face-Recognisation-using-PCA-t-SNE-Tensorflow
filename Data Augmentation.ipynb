{
 "cells": [
  {
   "cell_type": "code",
   "execution_count": 1,
   "metadata": {},
   "outputs": [
    {
     "name": "stderr",
     "output_type": "stream",
     "text": [
      "Using TensorFlow backend.\n"
     ]
    }
   ],
   "source": [
    "from keras.preprocessing.image import ImageDataGenerator,array_to_img,img_to_array,load_img"
   ]
  },
  {
   "cell_type": "code",
   "execution_count": 2,
   "metadata": {},
   "outputs": [],
   "source": [
    "datagen = ImageDataGenerator(\n",
    "        rotation_range=40,\n",
    "        width_shift_range=0.2,\n",
    "        height_shift_range=0.2,\n",
    "        rescale=1./255,\n",
    "        shear_range=0.2,\n",
    "        zoom_range=0.2,\n",
    "        horizontal_flip=True,\n",
    "        fill_mode='nearest')"
   ]
  },
  {
   "cell_type": "code",
   "execution_count": 49,
   "metadata": {
    "scrolled": false
   },
   "outputs": [],
   "source": [
    "img = load_img('C:/Users/FLASH/Desktop/coursera/Tensorflow/Introduction to tensorflow and AI/validation/Achintya/IMG-20190711-WA0005.jpg')"
   ]
  },
  {
   "cell_type": "code",
   "execution_count": 50,
   "metadata": {},
   "outputs": [],
   "source": [
    "x = img_to_array(img)\n",
    "x= x.reshape((1,)+x.shape)"
   ]
  },
  {
   "cell_type": "code",
   "execution_count": 51,
   "metadata": {},
   "outputs": [],
   "source": [
    "i = 0\n",
    "for batch in datagen.flow(x,batch_size = 1,save_to_dir = 'C:/Users/FLASH/Desktop/coursera/Tensorflow/Introduction to tensorflow and AI/validation/Achintya',save_format='jpeg'):\n",
    "    i +=1\n",
    "    if(i>3):\n",
    "        break\n",
    "        "
   ]
  },
  {
   "cell_type": "code",
   "execution_count": null,
   "metadata": {},
   "outputs": [],
   "source": [
    "WhatsApp Image 2020-04-14 at 20.07.48\n",
    "Screenshot_20200414-193746\n",
    "IMG_20200213_130732\n",
    "IMG_20200213_130732\n",
    "IMG_0895\n",
    "IMG_20200401_001918\n",
    "IMG_20200401_002536\n",
    "Screenshot_2020-03-31-00-35-54-472_com.miui.gallery\n",
    "Screenshot_2020-03-31-23-27-35-723_com.whatsapp\n",
    "Screenshot_2020-03-30-23-34-38-009_com.instagram.android"
   ]
  }
 ],
 "metadata": {
  "kernelspec": {
   "display_name": "Python 3",
   "language": "python",
   "name": "python3"
  },
  "language_info": {
   "codemirror_mode": {
    "name": "ipython",
    "version": 3
   },
   "file_extension": ".py",
   "mimetype": "text/x-python",
   "name": "python",
   "nbconvert_exporter": "python",
   "pygments_lexer": "ipython3",
   "version": "3.6.8"
  }
 },
 "nbformat": 4,
 "nbformat_minor": 2
}

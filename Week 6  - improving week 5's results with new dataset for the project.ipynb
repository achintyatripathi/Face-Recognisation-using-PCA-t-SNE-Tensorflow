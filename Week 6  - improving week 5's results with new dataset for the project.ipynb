{
 "cells": [
  {
   "cell_type": "code",
   "execution_count": 1,
   "metadata": {},
   "outputs": [],
   "source": [
    "import os \n",
    "import numpy as np\n",
    "import matplotlib.pyplot as plt\n",
    "import tensorflow as tf \n",
    "from tensorflow.keras.preprocessing.image import ImageDataGenerator\n",
    "from tensorflow.keras.optimizers import RMSprop"
   ]
  },
  {
   "cell_type": "code",
   "execution_count": 29,
   "metadata": {},
   "outputs": [],
   "source": [
    "training_dir = os.path.join('./training/project/')\n",
    "validation_dir = os.path.join('./validation/project/')\n",
    "\n",
    "\n",
    "# Directory with our training cat/dog pictures\n",
    "train_achintya_dir = os.path.join(training_dir, 'Achintya')\n",
    "train_anam_dir = os.path.join(training_dir, 'Anam')\n",
    "train_angad_dir = os.path.join(training_dir,'Angad')\n",
    "\n",
    "# Directory with our validation cat/dog pictures\n",
    "validation_achintya_dir = os.path.join(validation_dir, 'Achintya')\n",
    "validation_anam_dir = os.path.join(validation_dir, 'Anam')\n",
    "validation_angad_dir = os.path.join(validation_dir,'Angad')\n",
    "\n",
    "train_achintya_fnames = os.listdir( train_achintya_dir )\n",
    "train_anam_fnames = os.listdir( train_anam_dir )\n",
    "train_angad_fnames = os.listdir( train_angad_dir)"
   ]
  },
  {
   "cell_type": "code",
   "execution_count": 38,
   "metadata": {},
   "outputs": [],
   "source": [
    "model = tf.keras.models.Sequential([\n",
    "    tf.keras.layers.Conv2D(16,(3,3),activation='relu',input_shape=(100,100,3)),\n",
    "    tf.keras.layers.MaxPooling2D(2,2),\n",
    "    tf.keras.layers.Conv2D(32,(3,3)),\n",
    "    tf.keras.layers.MaxPooling2D(2,2),\n",
    "    tf.keras.layers.Conv2D(16,(3,3)),\n",
    "    tf.keras.layers.MaxPooling2D(2,2),\n",
    "    tf.keras.layers.Dropout(0.5),\n",
    "    tf.keras.layers.Flatten(),\n",
    "    tf.keras.layers.Dense(512,activation = 'relu'),\n",
    "    tf.keras.layers.Dense(3,activation='softmax')\n",
    "])"
   ]
  },
  {
   "cell_type": "code",
   "execution_count": 39,
   "metadata": {},
   "outputs": [],
   "source": [
    "# here remember we will use categorical_crossentropy instead of sparse_categrial_crossentropy\n",
    "# as we don't need to \n",
    "model.compile(optimizer=RMSprop(lr=0.001),\n",
    "              loss='categorical_crossentropy',\n",
    "              metrics = ['categorical_accuracy'])"
   ]
  },
  {
   "cell_type": "code",
   "execution_count": 41,
   "metadata": {},
   "outputs": [
    {
     "name": "stdout",
     "output_type": "stream",
     "text": [
      "Found 603 images belonging to 3 classes.\n",
      "Found 150 images belonging to 3 classes.\n",
      "Epoch 1/15\n",
      "30/30 - 125s - loss: 1.5819 - categorical_accuracy: 0.3846 - val_loss: 1.0553 - val_categorical_accuracy: 0.4067\n",
      "Epoch 2/15\n",
      "30/30 - 104s - loss: 1.0441 - categorical_accuracy: 0.4936 - val_loss: 1.7664 - val_categorical_accuracy: 0.3733\n",
      "Epoch 3/15\n",
      "30/30 - 97s - loss: 1.0226 - categorical_accuracy: 0.5192 - val_loss: 0.8542 - val_categorical_accuracy: 0.6467\n",
      "Epoch 4/15\n",
      "30/30 - 71s - loss: 0.8194 - categorical_accuracy: 0.6522 - val_loss: 0.7972 - val_categorical_accuracy: 0.6467\n",
      "Epoch 5/15\n",
      "30/30 - 79s - loss: 0.7951 - categorical_accuracy: 0.6715 - val_loss: 0.6993 - val_categorical_accuracy: 0.7067\n",
      "Epoch 6/15\n",
      "30/30 - 84s - loss: 0.7009 - categorical_accuracy: 0.7136 - val_loss: 0.8114 - val_categorical_accuracy: 0.6533\n",
      "Epoch 7/15\n",
      "30/30 - 90s - loss: 0.6902 - categorical_accuracy: 0.7206 - val_loss: 0.7010 - val_categorical_accuracy: 0.7533\n",
      "Epoch 8/15\n",
      "30/30 - 78s - loss: 0.6674 - categorical_accuracy: 0.7260 - val_loss: 0.8243 - val_categorical_accuracy: 0.6800\n",
      "Epoch 9/15\n",
      "30/30 - 74s - loss: 0.6289 - categorical_accuracy: 0.7340 - val_loss: 0.7187 - val_categorical_accuracy: 0.7200\n",
      "Epoch 10/15\n",
      "30/30 - 61s - loss: 0.5801 - categorical_accuracy: 0.7702 - val_loss: 0.7298 - val_categorical_accuracy: 0.7000\n",
      "Epoch 11/15\n",
      "30/30 - 58s - loss: 0.5541 - categorical_accuracy: 0.7841 - val_loss: 0.6808 - val_categorical_accuracy: 0.7467\n",
      "Epoch 12/15\n",
      "30/30 - 59s - loss: 0.5583 - categorical_accuracy: 0.7799 - val_loss: 0.6478 - val_categorical_accuracy: 0.7667\n",
      "Epoch 13/15\n",
      "30/30 - 54s - loss: 0.5896 - categorical_accuracy: 0.7571 - val_loss: 0.6575 - val_categorical_accuracy: 0.7600\n",
      "Epoch 14/15\n",
      "30/30 - 51s - loss: 0.5421 - categorical_accuracy: 0.7853 - val_loss: 0.7199 - val_categorical_accuracy: 0.7600\n",
      "Epoch 15/15\n",
      "30/30 - 68s - loss: 0.5689 - categorical_accuracy: 0.7772 - val_loss: 0.5779 - val_categorical_accuracy: 0.7800\n"
     ]
    }
   ],
   "source": [
    "train_datagen = ImageDataGenerator(\n",
    "      rescale=1./255,\n",
    "      rotation_range=40,\n",
    "      width_shift_range=0.2,\n",
    "      height_shift_range=0.2,\n",
    "      shear_range=0.2,\n",
    "      zoom_range=0.2,\n",
    "      horizontal_flip=True,\n",
    "      fill_mode='nearest')\n",
    "\n",
    "test_datagen = ImageDataGenerator(rescale=1./255)\n",
    "\n",
    "# Flow training images in batches of 20 using train_datagen generator\n",
    "train_generator = train_datagen.flow_from_directory(\n",
    "        training_dir,  # This is the source directory for training images\n",
    "        target_size=(100,100),  # All images will be resized to 150x150\n",
    "        batch_size=21,\n",
    "        # Since we use binary_crossentropy loss, we need binary labels\n",
    "        class_mode='categorical')\n",
    "\n",
    "# Flow validation images in batches of 20 using test_datagen generator\n",
    "validation_generator = test_datagen.flow_from_directory(\n",
    "        validation_dir,\n",
    "        target_size=(100,100),\n",
    "        batch_size=15,\n",
    "        class_mode='categorical')\n",
    "\n",
    "history = model.fit(\n",
    "      train_generator,\n",
    "      steps_per_epoch=30,  # 2000 images = batch_size * steps\n",
    "      epochs=15,\n",
    "      validation_data=validation_generator,\n",
    "      validation_steps=10,  # 1000 images = batch_size * steps\n",
    "      verbose=2)"
   ]
  },
  {
   "cell_type": "code",
   "execution_count": 42,
   "metadata": {},
   "outputs": [
    {
     "data": {
      "text/plain": [
       "dict_keys(['loss', 'categorical_accuracy', 'val_loss', 'val_categorical_accuracy'])"
      ]
     },
     "execution_count": 42,
     "metadata": {},
     "output_type": "execute_result"
    }
   ],
   "source": [
    "history_dict = history.history\n",
    "history_dict.keys()"
   ]
  },
  {
   "cell_type": "code",
   "execution_count": 73,
   "metadata": {},
   "outputs": [],
   "source": [
    "params = {\"xtick.color\" : \"white\",\n",
    "          \"ytick.color\" : \"white\"}\n",
    "plt.rcParams.update(params)"
   ]
  },
  {
   "cell_type": "code",
   "execution_count": 74,
   "metadata": {},
   "outputs": [
    {
     "data": {
      "image/png": "[encoded data removed]",
      "text/plain": [
       "<Figure size 432x288 with 1 Axes>"
      ]
     },
     "metadata": {
      "needs_background": "dark"
     },
     "output_type": "display_data"
    },
    {
     "data": {
      "image/png": "[encoded data removed]",
      "text/plain": [
       "<Figure size 432x288 with 1 Axes>"
      ]
     },
     "metadata": {
      "needs_background": "dark"
     },
     "output_type": "display_data"
    }
   ],
   "source": [
    "\n",
    "acc = history.history['categorical_accuracy']\n",
    "val_acc = history.history['val_categorical_accuracy']\n",
    "loss = history.history['loss']\n",
    "val_loss = history.history['val_loss']\n",
    "\n",
    "epochs = range(len(acc))\n",
    "\n",
    "plt.plot(epochs, acc, 'bo', label='Training accuracy')\n",
    "plt.plot(epochs, val_acc, 'b', label='Validation accuracy')\n",
    "plt.title('Training and validation accuracy',color = 'white')\n",
    "plt.legend()\n",
    "\n",
    "plt.figure()\n",
    "\n",
    "plt.plot(epochs, loss, 'bo', label='Training Loss')\n",
    "plt.plot(epochs, val_loss, 'b', label='Validation Loss')\n",
    "plt.title('Training and validation loss',color = 'white')\n",
    "plt.legend()\n",
    "\n",
    "plt.show()"
   ]
  },
  {
   "cell_type": "code",
   "execution_count": null,
   "metadata": {},
   "outputs": [],
   "source": []
  }
 ],
 "metadata": {
  "kernelspec": {
   "display_name": "Python 3",
   "language": "python",
   "name": "python3"
  },
  "language_info": {
   "codemirror_mode": {
    "name": "ipython",
    "version": 3
   },
   "file_extension": ".py",
   "mimetype": "text/x-python",
   "name": "python",
   "nbconvert_exporter": "python",
   "pygments_lexer": "ipython3",
   "version": "3.6.8"
  }
 },
 "nbformat": 4,
 "nbformat_minor": 2
}
